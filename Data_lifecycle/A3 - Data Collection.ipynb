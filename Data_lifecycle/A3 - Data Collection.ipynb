{
 "cells": [
  {
   "cell_type": "markdown",
   "metadata": {},
   "source": [
    "# 1. Data Sources & Collection"
   ]
  },
  {
   "cell_type": "markdown",
   "metadata": {},
   "source": [
    "CMS Nursing Home Provider Information - https://data.cms.gov/provider-data/dataset/4pq5-n9py (2017 - 2021)\n",
    "\n",
    "CMS Medicare Claims Quality Measures - https://data.cms.gov/provider-data/dataset/ijh5-nb2v (April 2020 - March 2021)\n",
    "\n",
    "CMS Survey Summary - https://data.cms.gov/provider-data/dataset/tbry-pc2d (2017 - 2020)\n",
    "\n",
    "CMS MDS Quality Measures - https://data.cms.gov/provider-data/dataset/djen-97ju (April 2020 - March 2021)\n",
    "\n",
    "CMS COVID-19 Nursing Home Data - https://data.cms.gov/covid-19/covid-19-nursing-home-data (April 2020 - December 2020, January 2021 - March 2021)"
   ]
  },
  {
   "cell_type": "markdown",
   "metadata": {},
   "source": [
    "# 2. Construct dataset"
   ]
  },
  {
   "cell_type": "code",
   "execution_count": 2,
   "metadata": {},
   "outputs": [],
   "source": [
    "import xgboost\n",
    "import pandas as pd \n",
    "import numpy as np\n",
    "import os \n",
    "import matplotlib.pyplot as plt\n",
    "import seaborn as sns\n",
    "import statsmodels.api as sm\n",
    "import scipy.stats as stats"
   ]
  },
  {
   "cell_type": "code",
   "execution_count": 3,
   "metadata": {},
   "outputs": [],
   "source": [
    "# Set directory\n",
    "os.chdir('C:/Users/erpin/Documents/CIND820')"
   ]
  },
  {
   "cell_type": "code",
   "execution_count": 4,
   "metadata": {},
   "outputs": [
    {
     "name": "stderr",
     "output_type": "stream",
     "text": [
      "C:\\Users\\erpin\\anaconda3\\lib\\site-packages\\IPython\\core\\interactiveshell.py:3146: DtypeWarning: Columns (84,85) have mixed types.Specify dtype option on import or set low_memory=False.\n",
      "  has_raised = await self.run_ast_nodes(code_ast.body, cell_name,\n"
     ]
    }
   ],
   "source": [
    "p = 'NH_ProviderInfo_Jan2022.csv'\n",
    "s = 'NH_SurveySummary_Nov2021.csv'\n",
    "m = 'NH_QualityMsr_MDS_Nov2021.csv'\n",
    "c = 'NH_QualityMsr_Claims_Nov2021.csv'\n",
    "cov = 'faclevel_2020.csv'\n",
    "\n",
    "# Select columns from provider dataset\n",
    "dfp = pd.read_csv(p, dtype={'Federal Provider Number':'str'}, encoding='cp1252')\n",
    "colsp= [0,1,4,9,10,11,30,48,50,58,59,60,87,88,89]\n",
    "dfp = dfp[dfp.columns[colsp]]\n",
    "dfp['Federal Provider Number'] = dfp['Federal Provider Number'].apply(lambda x: x.lstrip('0'))\n",
    "\n",
    "# Select columns from MDS dataset \n",
    "dfm = pd.read_csv(m, dtype={'Federal Provider Number':'str'}, encoding='cp1252')\n",
    "LS = dfm[dfm['Resident type']== 'Long Stay']\n",
    "colsm = [0,7,8,17]\n",
    "LS = LS[LS.columns[colsm]]\n",
    "LSpivot = LS.pivot(index=['Federal Provider Number', 'Resident type'], columns='Measure Description', values='Four Quarter Average Score')\n",
    "LSpivot.reset_index(drop=False, inplace=True)\n",
    "LSpivot['Federal Provider Number'] = LSpivot['Federal Provider Number'].apply(lambda x: x.lstrip('0'))\n",
    "\n",
    "# Select columns from surveys dataset \n",
    "dfs = pd.read_csv(s, dtype={'Federal Provider Number':'str'}, encoding='cp1252')\n",
    "colss = [0,6,7,9,10]\n",
    "dfs = dfs[dfs.columns[colss]]\n",
    "dfs = dfs[dfs['Inspection Cycle']==3]\n",
    "dfs.to_csv('inspection.csv')\n",
    "dfs['Federal Provider Number'] = dfs['Federal Provider Number'].apply(lambda x: x.lstrip('0'))\n",
    "\n",
    "#select columns from COVID 2020 dataset \n",
    "dfcov = pd.read_csv(cov, dtype={'Federal Provider Number':'str'})\n",
    "colcov = [1,13,19,22]\n",
    "dfcov = dfcov[dfcov.columns[colcov]]\n",
    "dfcov['Total Number of Occupied Beds'] = dfcov['Total Number of Occupied Beds'].replace(0, np.nan)\n",
    "dfcov['Confirmed COVID-19 Cases Per Occupied Beds'] = dfcov['Residents Weekly Confirmed COVID-19']/dfcov['Total Number of Occupied Beds']\n",
    "dfcov['COVID-19 Deaths Per Occupied Beds'] = dfcov['Residents Weekly COVID-19 Deaths']/dfcov['Total Number of Occupied Beds']\n",
    "dfcovm = dfcov.groupby(['Federal Provider Number']).mean().reset_index()\n",
    "dfcovm['Federal Provider Number'] = dfcovm['Federal Provider Number'].apply(lambda x: x.lstrip('0'))\n",
    "\n",
    "#Select columns from claims dataset \n",
    "dfc = pd.read_csv(c, dtype={'Federal Provider Number':'str'}, encoding='cp1252')\n",
    "dfc = dfc[dfc['Measure Description']=='Number of outpatient emergency department visits per 1000 long-stay resident days']\n",
    "colc = [0,7,9]\n",
    "dfc = dfc[dfc.columns[colc]]\n",
    "dfc['Federal Provider Number'] = dfc['Federal Provider Number'].apply(lambda x: x.lstrip('0'))\n",
    "\n",
    "df1 = pd.merge(dfp, LSpivot, on='Federal Provider Number', how='left')\n",
    "df2 = pd.merge(df1, dfs, on='Federal Provider Number', how='left')\n",
    "df3 = pd.merge(df2, dfcovm, on='Federal Provider Number', how='left')\n",
    "final_df = pd.merge(df3, dfc, on='Federal Provider Number', how='left')"
   ]
  },
  {
   "cell_type": "code",
   "execution_count": 4,
   "metadata": {},
   "outputs": [
    {
     "data": {
      "text/html": [
       "<style>.container { width:100% !important; }</style>"
      ],
      "text/plain": [
       "<IPython.core.display.HTML object>"
      ]
     },
     "metadata": {},
     "output_type": "display_data"
    }
   ],
   "source": [
    "from IPython.core.display import display, HTML\n",
    "display(HTML(\"<style>.container { width:100% !important; }</style>\"))"
   ]
  }
 ],
 "metadata": {
  "kernelspec": {
   "display_name": "Python 3",
   "language": "python",
   "name": "python3"
  },
  "language_info": {
   "codemirror_mode": {
    "name": "ipython",
    "version": 3
   },
   "file_extension": ".py",
   "mimetype": "text/x-python",
   "name": "python",
   "nbconvert_exporter": "python",
   "pygments_lexer": "ipython3",
   "version": "3.8.5"
  }
 },
 "nbformat": 4,
 "nbformat_minor": 4
}
