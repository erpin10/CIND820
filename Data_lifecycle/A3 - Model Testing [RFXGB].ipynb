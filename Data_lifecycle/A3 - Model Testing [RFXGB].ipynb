{
 "cells": [
  {
   "cell_type": "markdown",
   "metadata": {},
   "source": [
    "# Model Testing"
   ]
  },
  {
   "cell_type": "markdown",
   "metadata": {},
   "source": [
    "## Evaluating the train model"
   ]
  },
  {
   "cell_type": "code",
   "execution_count": 21,
   "metadata": {},
   "outputs": [],
   "source": [
    "#Determine initial MAE, RMSE, R^2 \n",
    "score = cross_validate(model, X_train, y_train, scoring=(['neg_mean_absolute_error', 'neg_root_mean_squared_error', 'r2']), cv=cv, n_jobs=-1)"
   ]
  },
  {
   "cell_type": "code",
   "execution_count": 22,
   "metadata": {},
   "outputs": [
    {
     "name": "stdout",
     "output_type": "stream",
     "text": [
      "fit_time 1.5069206396738688 , 0.2773521639545116\n",
      "score_time 0.010210490226745606 , 0.006703930024165353\n",
      "test_neg_mean_absolute_error -0.2966075961418151 , 0.0065572433453848075\n",
      "test_neg_root_mean_squared_error -0.4044414226093398 , 0.015826082255341115\n",
      "test_r2 0.2232523550975405 , 0.01646724181766527\n"
     ]
    }
   ],
   "source": [
    "from statistics import mean\n",
    "from statistics import stdev\n",
    "for scores,val in score.items():\n",
    "    print(scores, mean(val),',',stdev(val))"
   ]
  },
  {
   "cell_type": "markdown",
   "metadata": {},
   "source": [
    "The MAE with default hyperparameters is -0.2966 (0.0065) (A larger MAE is better and a perfect model has a MAE of 0)<br>\n",
    "The RMSE with default hyperparameters is -0.4044 (0.015) <br>\n",
    "The R^2 with default hyperparamaters is 0.22 (0.016) "
   ]
  },
  {
   "cell_type": "markdown",
   "metadata": {},
   "source": [
    "## Hyperparamater Tuning"
   ]
  },
  {
   "cell_type": "markdown",
   "metadata": {},
   "source": [
    "### Modifying number of trees (250, 500, 750, 1000)"
   ]
  },
  {
   "cell_type": "code",
   "execution_count": 23,
   "metadata": {},
   "outputs": [
    {
     "name": "stdout",
     "output_type": "stream",
     "text": [
      "fit_time 3.369528651237488 , 0.5715286415681479\n",
      "score_time 0.01350390116373698 , 0.007877065057835838\n",
      "test_neg_mean_absolute_error -0.2969530731006803 , 0.006671818955812831\n",
      "test_neg_root_mean_squared_error -0.40480126119174314 , 0.01594525343976888\n",
      "test_r2 0.22189427608745071 , 0.016074386905472512\n"
     ]
    }
   ],
   "source": [
    "#IncreaseTrees to 250\n",
    "tree_model = XGBRFRegressor(n_estimators=250, subsample=0.9, colsample_bynode=0.2)\n",
    "score = cross_validate(tree_model, X_train, y_train, scoring=(['neg_mean_absolute_error', 'neg_root_mean_squared_error', 'r2']), cv=cv, n_jobs=-1)\n",
    "for scores,val in score.items():\n",
    "    print(scores, mean(val), ',', stdev(val))"
   ]
  },
  {
   "cell_type": "code",
   "execution_count": 25,
   "metadata": {},
   "outputs": [
    {
     "name": "stdout",
     "output_type": "stream",
     "text": [
      "fit_time 6.853989028930664 , 1.1546803777305592\n",
      "score_time 0.011919903755187988 , 0.0071349916150257355\n",
      "test_neg_mean_absolute_error -0.2970520651219047 , 0.00665686832215108\n",
      "test_neg_root_mean_squared_error -0.40491825023595057 , 0.01600174695830033\n",
      "test_r2 0.22145577938390515 , 0.01592716305764721\n"
     ]
    }
   ],
   "source": [
    "#IncreaseTrees to 500\n",
    "tree_model = XGBRFRegressor(n_estimators=500, subsample=0.9, colsample_bynode=0.2)\n",
    "score = cross_validate(tree_model, X_train, y_train, scoring=(['neg_mean_absolute_error', 'neg_root_mean_squared_error', 'r2']), cv=cv, n_jobs=-1)\n",
    "for scores,val in score.items():\n",
    "    print(scores, mean(val), ',', stdev(val))"
   ]
  },
  {
   "cell_type": "code",
   "execution_count": 104,
   "metadata": {},
   "outputs": [
    {
     "name": "stdout",
     "output_type": "stream",
     "text": [
      "fit_time 11.10124781926473 , 1.872167052993025\n",
      "score_time 0.01916970411936442 , 0.014683190468773512\n",
      "test_neg_mean_absolute_error -0.297159294033917 , 0.006682114177022371\n",
      "test_neg_root_mean_squared_error -0.4050694337602153 , 0.016033428217145557\n",
      "test_r2 0.22087993157844038 , 0.015870063612857255\n"
     ]
    }
   ],
   "source": [
    "#IncreaseTrees to 750\n",
    "tree_model = XGBRFRegressor(n_estimators=750, subsample=0.9, colsample_bynode=0.2)\n",
    "score = cross_validate(tree_model, X_train, y_train, scoring=(['neg_mean_absolute_error', 'neg_root_mean_squared_error', 'r2']), cv=cv, n_jobs=-1)\n",
    "for scores,val in score.items():\n",
    "    print(scores, mean(val), ',', stdev(val))"
   ]
  },
  {
   "cell_type": "code",
   "execution_count": 105,
   "metadata": {},
   "outputs": [
    {
     "name": "stdout",
     "output_type": "stream",
     "text": [
      "fit_time 13.824930866559347 , 2.161970050340501\n",
      "score_time 0.016809566815694173 , 0.008952345655591049\n",
      "test_neg_mean_absolute_error -0.2969028305054752 , 0.00667844416210346\n",
      "test_neg_root_mean_squared_error -0.40475540373413543 , 0.016037490236190666\n",
      "test_r2 0.2220892756221308 , 0.015874550790229144\n"
     ]
    }
   ],
   "source": [
    "#IncreaseTrees to 1000\n",
    "tree_model = XGBRFRegressor(n_estimators=1000, subsample=0.9, colsample_bynode=0.2)\n",
    "score = cross_validate(tree_model, X_train, y_train, scoring=(['neg_mean_absolute_error', 'neg_root_mean_squared_error', 'r2']), cv=cv, n_jobs=-1)\n",
    "for scores,val in score.items():\n",
    "    print(scores, mean(val), ',', stdev(val))"
   ]
  },
  {
   "cell_type": "markdown",
   "metadata": {},
   "source": [
    "Trees = 100: <br>\n",
    "    MAE = -0.2966 (0.0065), \n",
    "    RMSE = -0.4044 (0.015), \n",
    "    R^2 = 0.22 (0.016)\n",
    "\n",
    "Trees = 250: <br>\n",
    "    MAE = -0.2969 (0.0067), \n",
    "    RMSE = -0.405 (0.016), \n",
    "    R^2 = 0.22 (0.016)\n",
    "\n",
    "Trees = 500: <br>\n",
    "    MAE = -0.29705 (0.0067), \n",
    "    RMSE = -0.405 (0.016), \n",
    "    R^2 = 0.22 (0.016)\n",
    "    \n",
    "Trees = 750: <br>\n",
    "    MAE = -0.2971 (0.0067), \n",
    "    RMSE = -0.405 (0.016), \n",
    "    R^2 = 0.22 (0.016)\n",
    "\n",
    "Trees = 1000: <br>\n",
    "    MAE = -0.2969 (2.36), \n",
    "    RMSE = -0.404 (0.016), \n",
    "    R^2 = 0.222 (0.015)\n",
    "\n",
    "Best performance seems to be at ~750 trees. "
   ]
  },
  {
   "cell_type": "markdown",
   "metadata": {},
   "source": [
    "### Modify number of features"
   ]
  },
  {
   "cell_type": "code",
   "execution_count": 108,
   "metadata": {},
   "outputs": [
    {
     "name": "stdout",
     "output_type": "stream",
     "text": [
      "fit_time 16.441640218098957 , 3.178806489800374\n",
      "score_time 0.013590709368387858 , 0.005310349260570838\n",
      "test_neg_mean_absolute_error -0.28860247257866595 , 0.006477206943834958\n",
      "test_neg_root_mean_squared_error -0.3943900950762257 , 0.01599204137025876\n",
      "test_r2 0.26134144707617785 , 0.020551304333985113\n"
     ]
    }
   ],
   "source": [
    "#Increase features to 0.4\n",
    "tree_model = XGBRFRegressor(n_estimators=750, subsample=0.9, colsample_bynode=0.4)\n",
    "score = cross_validate(tree_model, X_train, y_train, scoring=(['neg_mean_absolute_error', 'neg_root_mean_squared_error', 'r2']), cv=cv, n_jobs=-1)\n",
    "for scores,val in score.items():\n",
    "    print(scores, mean(val), ',', stdev(val))"
   ]
  },
  {
   "cell_type": "code",
   "execution_count": 110,
   "metadata": {},
   "outputs": [
    {
     "name": "stdout",
     "output_type": "stream",
     "text": [
      "fit_time 8.62301425933838 , 1.4969786613858675\n",
      "score_time 0.019014946619669595 , 0.01550398341394227\n",
      "test_neg_mean_absolute_error -0.30696239300818506 , 0.007323646144693468\n",
      "test_neg_root_mean_squared_error -0.4173499346906456 , 0.016167679255095473\n",
      "test_r2 0.17295347768702332 , 0.012138368985627096\n"
     ]
    }
   ],
   "source": [
    "#Decrease features to 0.1\n",
    "tree_model = XGBRFRegressor(n_estimators=750, subsample=0.9, colsample_bynode=0.1)\n",
    "score = cross_validate(tree_model, X_train, y_train, scoring=(['neg_mean_absolute_error', 'neg_root_mean_squared_error', 'r2']), cv=cv, n_jobs=-1)\n",
    "for scores,val in score.items():\n",
    "    print(scores, mean(val), ',', stdev(val))"
   ]
  },
  {
   "cell_type": "markdown",
   "metadata": {},
   "source": [
    "Features = 0.1: <br>\n",
    "    MAE = -0.3069 (0.0073), \n",
    "    RMSE = -0.4173 (0.016), \n",
    "    R^2 = 0.173 (0.012)\n",
    "    \n",
    "Features = 0.2: <br>\n",
    "    MAE = -0.2971 (0.0067), \n",
    "    RMSE = -0.405 (0.016), \n",
    "    R^2 = 0.22 (0.016)\n",
    "\n",
    "Features = 0.4: <br>\n",
    "    MAE = -0.2886 (0.0064), \n",
    "    RMSE = -0.394 (0.01599), \n",
    "    R^2 = 0.2613 (0.02055)\n",
    "    \n",
    "Performance has different effects on MAE/RMSE and R^2. As features decreased, MAE increases, while R^2 decreases. Features will be maintained at 0.1."
   ]
  },
  {
   "cell_type": "markdown",
   "metadata": {},
   "source": [
    "## Building & Testing the predictive model after hyperparamater tuning"
   ]
  },
  {
   "cell_type": "code",
   "execution_count": 30,
   "metadata": {},
   "outputs": [
    {
     "data": {
      "text/plain": [
       "XGBRFRegressor(base_score=0.5, booster='gbtree', colsample_bylevel=1,\n",
       "               colsample_bynode=0.1, colsample_bytree=1,\n",
       "               enable_categorical=False, gamma=0, gpu_id=-1,\n",
       "               importance_type=None, interaction_constraints='',\n",
       "               max_delta_step=0, max_depth=6, min_child_weight=1, missing=nan,\n",
       "               monotone_constraints='()', n_estimators=750, n_jobs=12,\n",
       "               num_parallel_tree=750, objective='reg:squarederror',\n",
       "               predictor='auto', random_state=0, reg_alpha=0,\n",
       "               scale_pos_weight=1, subsample=0.9, tree_method='exact',\n",
       "               validate_parameters=1, verbosity=None)"
      ]
     },
     "execution_count": 30,
     "metadata": {},
     "output_type": "execute_result"
    }
   ],
   "source": [
    "final_model = XGBRFRegressor(n_estimators=750, subsample=0.9, colsample_bynode=0.1)\n",
    "final_model.fit(X_train, y_train)"
   ]
  },
  {
   "cell_type": "code",
   "execution_count": 32,
   "metadata": {},
   "outputs": [
    {
     "data": {
      "text/plain": [
       "array([0.63842845, 0.83766073, 0.96483827, ..., 0.59440964, 0.58628273,\n",
       "       0.5319548 ], dtype=float32)"
      ]
     },
     "execution_count": 32,
     "metadata": {},
     "output_type": "execute_result"
    }
   ],
   "source": [
    "y_pred = final_model.predict(X_test)\n",
    "y_pred"
   ]
  },
  {
   "cell_type": "code",
   "execution_count": 33,
   "metadata": {},
   "outputs": [
    {
     "data": {
      "text/plain": [
       "3400     0.563651\n",
       "12517    1.737818\n",
       "3514     2.018809\n",
       "2825     0.195712\n",
       "12812    0.440138\n",
       "           ...   \n",
       "677      0.217086\n",
       "182      0.791695\n",
       "2309     0.078246\n",
       "8697     0.281475\n",
       "3086     0.128357\n",
       "Name: Number of outpatient emergency department visits per 1000 long-stay resident days, Length: 1984, dtype: float64"
      ]
     },
     "execution_count": 33,
     "metadata": {},
     "output_type": "execute_result"
    }
   ],
   "source": [
    "y_test = y_test.squeeze()\n",
    "y_test"
   ]
  },
  {
   "cell_type": "code",
   "execution_count": 34,
   "metadata": {},
   "outputs": [
    {
     "data": {
      "text/html": [
       "<div>\n",
       "<style scoped>\n",
       "    .dataframe tbody tr th:only-of-type {\n",
       "        vertical-align: middle;\n",
       "    }\n",
       "\n",
       "    .dataframe tbody tr th {\n",
       "        vertical-align: top;\n",
       "    }\n",
       "\n",
       "    .dataframe thead th {\n",
       "        text-align: right;\n",
       "    }\n",
       "</style>\n",
       "<table border=\"1\" class=\"dataframe\">\n",
       "  <thead>\n",
       "    <tr style=\"text-align: right;\">\n",
       "      <th></th>\n",
       "      <th>Actual</th>\n",
       "      <th>Predicted</th>\n",
       "    </tr>\n",
       "  </thead>\n",
       "  <tbody>\n",
       "    <tr>\n",
       "      <th>3400</th>\n",
       "      <td>0.563651</td>\n",
       "      <td>0.638428</td>\n",
       "    </tr>\n",
       "    <tr>\n",
       "      <th>12517</th>\n",
       "      <td>1.737818</td>\n",
       "      <td>0.837661</td>\n",
       "    </tr>\n",
       "    <tr>\n",
       "      <th>3514</th>\n",
       "      <td>2.018809</td>\n",
       "      <td>0.964838</td>\n",
       "    </tr>\n",
       "    <tr>\n",
       "      <th>2825</th>\n",
       "      <td>0.195712</td>\n",
       "      <td>0.466432</td>\n",
       "    </tr>\n",
       "    <tr>\n",
       "      <th>12812</th>\n",
       "      <td>0.440138</td>\n",
       "      <td>0.502597</td>\n",
       "    </tr>\n",
       "    <tr>\n",
       "      <th>...</th>\n",
       "      <td>...</td>\n",
       "      <td>...</td>\n",
       "    </tr>\n",
       "    <tr>\n",
       "      <th>677</th>\n",
       "      <td>0.217086</td>\n",
       "      <td>0.666120</td>\n",
       "    </tr>\n",
       "    <tr>\n",
       "      <th>182</th>\n",
       "      <td>0.791695</td>\n",
       "      <td>0.832545</td>\n",
       "    </tr>\n",
       "    <tr>\n",
       "      <th>2309</th>\n",
       "      <td>0.078246</td>\n",
       "      <td>0.594410</td>\n",
       "    </tr>\n",
       "    <tr>\n",
       "      <th>8697</th>\n",
       "      <td>0.281475</td>\n",
       "      <td>0.586283</td>\n",
       "    </tr>\n",
       "    <tr>\n",
       "      <th>3086</th>\n",
       "      <td>0.128357</td>\n",
       "      <td>0.531955</td>\n",
       "    </tr>\n",
       "  </tbody>\n",
       "</table>\n",
       "<p>1984 rows × 2 columns</p>\n",
       "</div>"
      ],
      "text/plain": [
       "         Actual  Predicted\n",
       "3400   0.563651   0.638428\n",
       "12517  1.737818   0.837661\n",
       "3514   2.018809   0.964838\n",
       "2825   0.195712   0.466432\n",
       "12812  0.440138   0.502597\n",
       "...         ...        ...\n",
       "677    0.217086   0.666120\n",
       "182    0.791695   0.832545\n",
       "2309   0.078246   0.594410\n",
       "8697   0.281475   0.586283\n",
       "3086   0.128357   0.531955\n",
       "\n",
       "[1984 rows x 2 columns]"
      ]
     },
     "execution_count": 34,
     "metadata": {},
     "output_type": "execute_result"
    }
   ],
   "source": [
    "pred_df = pd.DataFrame({'Actual': y_test, 'Predicted': y_pred})\n",
    "pred_df"
   ]
  },
  {
   "cell_type": "code",
   "execution_count": 35,
   "metadata": {},
   "outputs": [
    {
     "data": {
      "image/png": "[encoded data removed]",
      "text/plain": [
       "<Figure size 432x288 with 1 Axes>"
      ]
     },
     "metadata": {
      "needs_background": "light"
     },
     "output_type": "display_data"
    }
   ],
   "source": [
    "#Visualizing the actual versus predicted values\n",
    "xax = range(len(y_test))\n",
    "plt.plot(xax, y_test, label='actual')\n",
    "plt.plot(xax, y_pred, label='predictions')\n",
    "plt.title(\"RFXGB Actual vs. Predictions\")\n",
    "plt.legend()\n",
    "plt.show()"
   ]
  }
 ],
 "metadata": {
  "kernelspec": {
   "display_name": "Python 3",
   "language": "python",
   "name": "python3"
  },
  "language_info": {
   "codemirror_mode": {
    "name": "ipython",
    "version": 3
   },
   "file_extension": ".py",
   "mimetype": "text/x-python",
   "name": "python",
   "nbconvert_exporter": "python",
   "pygments_lexer": "ipython3",
   "version": "3.8.5"
  }
 },
 "nbformat": 4,
 "nbformat_minor": 4
}
